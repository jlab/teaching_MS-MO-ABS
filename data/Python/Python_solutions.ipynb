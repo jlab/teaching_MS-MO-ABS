{
 "cells": [
  {
   "cell_type": "markdown",
   "metadata": {},
   "source": [
    "# Teil 1: Etwas Listen und Logik\n",
    "#### 1. Listen: \n",
    "Was sind die Rückgabewerte der folgenden Ausdrücke?"
   ]
  },
  {
   "cell_type": "code",
   "execution_count": 1,
   "metadata": {},
   "outputs": [],
   "source": [
    "x = [1, 2, 3, 4, 5, 6, 7, 8, 9, 10]"
   ]
  },
  {
   "cell_type": "code",
   "execution_count": 2,
   "metadata": {},
   "outputs": [
    {
     "data": {
      "text/plain": [
       "[1, 2, 3, 4, 5, 6, 7, 8, 9, 10]"
      ]
     },
     "execution_count": 2,
     "metadata": {},
     "output_type": "execute_result"
    }
   ],
   "source": [
    "x"
   ]
  },
  {
   "cell_type": "code",
   "execution_count": 3,
   "metadata": {},
   "outputs": [
    {
     "data": {
      "text/plain": [
       "4"
      ]
     },
     "execution_count": 3,
     "metadata": {},
     "output_type": "execute_result"
    }
   ],
   "source": [
    "x[3]"
   ]
  },
  {
   "cell_type": "code",
   "execution_count": 4,
   "metadata": {},
   "outputs": [
    {
     "data": {
      "text/plain": [
       "[1, 2]"
      ]
     },
     "execution_count": 4,
     "metadata": {},
     "output_type": "execute_result"
    }
   ],
   "source": [
    "x[0:2]"
   ]
  },
  {
   "cell_type": "code",
   "execution_count": 5,
   "metadata": {},
   "outputs": [
    {
     "data": {
      "text/plain": [
       "[6, 7, 8, 9, 10]"
      ]
     },
     "execution_count": 5,
     "metadata": {},
     "output_type": "execute_result"
    }
   ],
   "source": [
    "x[5:]"
   ]
  },
  {
   "cell_type": "code",
   "execution_count": 6,
   "metadata": {},
   "outputs": [
    {
     "data": {
      "text/plain": [
       "[1, 2, 3, 4, 5]"
      ]
     },
     "execution_count": 6,
     "metadata": {},
     "output_type": "execute_result"
    }
   ],
   "source": [
    "x[:5]"
   ]
  },
  {
   "cell_type": "code",
   "execution_count": 7,
   "metadata": {},
   "outputs": [
    {
     "data": {
      "text/plain": [
       "9"
      ]
     },
     "execution_count": 7,
     "metadata": {},
     "output_type": "execute_result"
    }
   ],
   "source": [
    "x[-2]"
   ]
  },
  {
   "cell_type": "code",
   "execution_count": 8,
   "metadata": {},
   "outputs": [
    {
     "data": {
      "text/plain": [
       "[1, 2, 3, 4, 5, 6, 7, 8]"
      ]
     },
     "execution_count": 8,
     "metadata": {},
     "output_type": "execute_result"
    }
   ],
   "source": [
    "x[:-2]"
   ]
  },
  {
   "cell_type": "code",
   "execution_count": 9,
   "metadata": {},
   "outputs": [
    {
     "data": {
      "text/plain": [
       "True"
      ]
     },
     "execution_count": 9,
     "metadata": {},
     "output_type": "execute_result"
    }
   ],
   "source": [
    "5 in x"
   ]
  },
  {
   "cell_type": "code",
   "execution_count": 10,
   "metadata": {},
   "outputs": [
    {
     "data": {
      "text/plain": [
       "False"
      ]
     },
     "execution_count": 10,
     "metadata": {},
     "output_type": "execute_result"
    }
   ],
   "source": [
    "11 in x"
   ]
  },
  {
   "cell_type": "markdown",
   "metadata": {
    "tags": []
   },
   "source": [
    "#### 2. Methoden für Listen\n",
    "\n",
    "Zwei praktische Methoden für das Arbeiten mit Listen sind `append()` und `extend()`."
   ]
  },
  {
   "cell_type": "code",
   "execution_count": 10,
   "metadata": {},
   "outputs": [],
   "source": [
    "list1 = [\"Hallo\", \"Hi\", \"Hola\", \"Hej\"]"
   ]
  },
  {
   "cell_type": "code",
   "execution_count": 11,
   "metadata": {},
   "outputs": [
    {
     "data": {
      "text/plain": [
       "['Hallo', 'Hi', 'Hola', 'Hej', 'Bonjour']"
      ]
     },
     "execution_count": 11,
     "metadata": {},
     "output_type": "execute_result"
    }
   ],
   "source": [
    "list1.append(\"Bonjour\")\n",
    "list1"
   ]
  },
  {
   "cell_type": "code",
   "execution_count": 12,
   "metadata": {},
   "outputs": [
    {
     "data": {
      "text/plain": [
       "['Hallo', 'Hi', 'Hola', 'Hej', 'Bonjour', 'Ciao']"
      ]
     },
     "execution_count": 12,
     "metadata": {},
     "output_type": "execute_result"
    }
   ],
   "source": [
    "list2 = [\"Ciao\"]\n",
    "list1.extend(list2)\n",
    "list1"
   ]
  },
  {
   "cell_type": "markdown",
   "metadata": {},
   "source": [
    "#### 3. Logik: \n",
    "Was sind die Rückgabewerte der folgenden Ausdrücke?"
   ]
  },
  {
   "cell_type": "code",
   "execution_count": 13,
   "metadata": {},
   "outputs": [
    {
     "data": {
      "text/plain": [
       "False"
      ]
     },
     "execution_count": 13,
     "metadata": {},
     "output_type": "execute_result"
    }
   ],
   "source": [
    "1 > 2"
   ]
  },
  {
   "cell_type": "code",
   "execution_count": 14,
   "metadata": {},
   "outputs": [
    {
     "data": {
      "text/plain": [
       "False"
      ]
     },
     "execution_count": 14,
     "metadata": {},
     "output_type": "execute_result"
    }
   ],
   "source": [
    "1+1 == 2 & 1+1 == 3 "
   ]
  },
  {
   "cell_type": "code",
   "execution_count": 15,
   "metadata": {},
   "outputs": [
    {
     "data": {
      "text/plain": [
       "True"
      ]
     },
     "execution_count": 15,
     "metadata": {},
     "output_type": "execute_result"
    }
   ],
   "source": [
    "1+1 >= 2"
   ]
  },
  {
   "cell_type": "code",
   "execution_count": 16,
   "metadata": {},
   "outputs": [
    {
     "data": {
      "text/plain": [
       "True"
      ]
     },
     "execution_count": 16,
     "metadata": {},
     "output_type": "execute_result"
    }
   ],
   "source": [
    "x[:5]<x[5:]"
   ]
  },
  {
   "cell_type": "code",
   "execution_count": 17,
   "metadata": {},
   "outputs": [
    {
     "data": {
      "text/plain": [
       "True"
      ]
     },
     "execution_count": 17,
     "metadata": {},
     "output_type": "execute_result"
    }
   ],
   "source": [
    "1 != 2"
   ]
  },
  {
   "cell_type": "code",
   "execution_count": 18,
   "metadata": {},
   "outputs": [
    {
     "data": {
      "text/plain": [
       "False"
      ]
     },
     "execution_count": 18,
     "metadata": {},
     "output_type": "execute_result"
    }
   ],
   "source": [
    "\"A\" > \"B\""
   ]
  },
  {
   "cell_type": "code",
   "execution_count": 19,
   "metadata": {},
   "outputs": [
    {
     "data": {
      "text/plain": [
       "True"
      ]
     },
     "execution_count": 19,
     "metadata": {},
     "output_type": "execute_result"
    }
   ],
   "source": [
    "\"A\" < \"B\""
   ]
  },
  {
   "cell_type": "code",
   "execution_count": 20,
   "metadata": {},
   "outputs": [
    {
     "data": {
      "text/plain": [
       "True"
      ]
     },
     "execution_count": 20,
     "metadata": {},
     "output_type": "execute_result"
    }
   ],
   "source": [
    "\"Apfel\" + \"kuchen\" == \"Apfelkuchen\""
   ]
  },
  {
   "cell_type": "markdown",
   "metadata": {},
   "source": [
    "#### 4. `type()`\n",
    "Variablen besitzen einen Type, welcher mittels `type()` angezeigt werden kann. "
   ]
  },
  {
   "cell_type": "code",
   "execution_count": 21,
   "metadata": {},
   "outputs": [],
   "source": [
    "variable_string = \"Apfelkuchen\"\n",
    "variable_int = 42\n",
    "variable_float = 3.14\n",
    "variable_list = [1,2,3]\n",
    "variable_tuple = (1,2,3)"
   ]
  },
  {
   "cell_type": "code",
   "execution_count": 22,
   "metadata": {},
   "outputs": [
    {
     "data": {
      "text/plain": [
       "str"
      ]
     },
     "execution_count": 22,
     "metadata": {},
     "output_type": "execute_result"
    }
   ],
   "source": [
    "type(variable_string)"
   ]
  },
  {
   "cell_type": "code",
   "execution_count": 23,
   "metadata": {},
   "outputs": [
    {
     "data": {
      "text/plain": [
       "int"
      ]
     },
     "execution_count": 23,
     "metadata": {},
     "output_type": "execute_result"
    }
   ],
   "source": [
    "type(variable_int)"
   ]
  },
  {
   "cell_type": "code",
   "execution_count": 24,
   "metadata": {},
   "outputs": [
    {
     "data": {
      "text/plain": [
       "float"
      ]
     },
     "execution_count": 24,
     "metadata": {},
     "output_type": "execute_result"
    }
   ],
   "source": [
    "type(variable_float)"
   ]
  },
  {
   "cell_type": "code",
   "execution_count": 25,
   "metadata": {},
   "outputs": [
    {
     "data": {
      "text/plain": [
       "list"
      ]
     },
     "execution_count": 25,
     "metadata": {},
     "output_type": "execute_result"
    }
   ],
   "source": [
    "type(variable_list)"
   ]
  },
  {
   "cell_type": "code",
   "execution_count": 26,
   "metadata": {},
   "outputs": [
    {
     "data": {
      "text/plain": [
       "tuple"
      ]
     },
     "execution_count": 26,
     "metadata": {},
     "output_type": "execute_result"
    }
   ],
   "source": [
    "type(variable_tuple)"
   ]
  },
  {
   "cell_type": "markdown",
   "metadata": {},
   "source": [
    "Typen können verändert werden:"
   ]
  },
  {
   "cell_type": "code",
   "execution_count": 27,
   "metadata": {},
   "outputs": [
    {
     "data": {
      "text/plain": [
       "'42'"
      ]
     },
     "execution_count": 27,
     "metadata": {},
     "output_type": "execute_result"
    }
   ],
   "source": [
    "int_to_str = str(variable_int)\n",
    "int_to_str"
   ]
  },
  {
   "cell_type": "code",
   "execution_count": 28,
   "metadata": {},
   "outputs": [
    {
     "data": {
      "text/plain": [
       "str"
      ]
     },
     "execution_count": 28,
     "metadata": {},
     "output_type": "execute_result"
    }
   ],
   "source": [
    "type(int_to_str)"
   ]
  },
  {
   "cell_type": "markdown",
   "metadata": {},
   "source": [
    "Manchmal ist dies notwendig, um bestimmte Funktionen durchzuführen. Führen Sie die unten stehende Zelle aus und ändern Sie den Code entsprechend, um den Satz ausgeben zu lassen (unter Benutzung der Variablen)."
   ]
  },
  {
   "cell_type": "code",
   "execution_count": 29,
   "metadata": {},
   "outputs": [
    {
     "ename": "TypeError",
     "evalue": "can only concatenate str (not \"int\") to str",
     "output_type": "error",
     "traceback": [
      "\u001b[0;31m---------------------------------------------------------------------------\u001b[0m",
      "\u001b[0;31mTypeError\u001b[0m                                 Traceback (most recent call last)",
      "Cell \u001b[0;32mIn[29], line 1\u001b[0m\n\u001b[0;32m----> 1\u001b[0m \u001b[38;5;28mprint\u001b[39m(\u001b[38;5;124;43m\"\u001b[39;49m\u001b[38;5;124;43mIch möchte \u001b[39;49m\u001b[38;5;124;43m\"\u001b[39;49m\u001b[43m \u001b[49m\u001b[38;5;241;43m+\u001b[39;49m\u001b[43m \u001b[49m\u001b[43mvariable_int\u001b[49m \u001b[38;5;241m+\u001b[39m \u001b[38;5;124m\"\u001b[39m\u001b[38;5;124m Stücke \u001b[39m\u001b[38;5;124m\"\u001b[39m \u001b[38;5;241m+\u001b[39m variable_string \u001b[38;5;241m+\u001b[39m \u001b[38;5;124m\"\u001b[39m\u001b[38;5;124m.\u001b[39m\u001b[38;5;124m\"\u001b[39m)\n",
      "\u001b[0;31mTypeError\u001b[0m: can only concatenate str (not \"int\") to str"
     ]
    }
   ],
   "source": [
    "print(\"Ich möchte \" + variable_int + \" Stücke \" + variable_string + \".\")"
   ]
  },
  {
   "cell_type": "code",
   "execution_count": 30,
   "metadata": {},
   "outputs": [
    {
     "name": "stdout",
     "output_type": "stream",
     "text": [
      "Ich möchte 42 Stücke Apfelkuchen.\n",
      "Ich möchte 42 Stücke Apfelkuchen.\n"
     ]
    }
   ],
   "source": [
    "print(\"Ich möchte \" + str(variable_int) + \" Stücke \" + variable_string + \".\")\n",
    "\n",
    "# oder auch so, hat aber nichts mit dem Thema zu tun:\n",
    "print(f'Ich möchte {variable_int} Stücke {variable_string}.')"
   ]
  },
  {
   "cell_type": "markdown",
   "metadata": {},
   "source": [
    "# Teil 2: Funktionen"
   ]
  },
  {
   "cell_type": "markdown",
   "metadata": {
    "tags": []
   },
   "source": [
    "#### 1. Funktionen verstehen\n",
    "Finden Sie Informationen zu Input, Output und Funktion für die folgenden Methoden: </br>\n",
    "`sum(), round(), min(), max()` </br>\n",
    "`len(), str.upper(), str.lower(), str.split(), str.join()`\n",
    "\n",
    "Benutzen Sie dafür eine Suchmaschine oder tippen `help()` in eine Zelle des JupyterHubs \n",
    "\n",
    "Schreiben Sie außerdem einen Beispielaufruf für die entsprechende Methode."
   ]
  },
  {
   "cell_type": "markdown",
   "metadata": {},
   "source": [
    "| Methode | Input | Output | Funktion | Beispiel |\n",
    "|---------|-------|--------|----------|----------|\n",
    "|sum()         |Iterable (kommagetrennte Zahlen, Zahlen in Liste, ...)   |Zahl   |Summieren von mehreren Elementen   |sum(1,2)    |\n",
    "|round()         |Zahl   |Zahl   |Runden (Vorsicht: Symmetrisches Runden!)   |round(2.4)    |\n",
    "|min()         |Iterable (Zahl, Liste, String, ...)   \t|Zahl, Integer (abh. von Input)   \t|Minimum berechnen   \t|min(2,5,1,7)   \t|\n",
    "|max()   \t|Iterable (Zahl, Liste, String, ...)   \t|Zahl, Integer (abh. von Input)   \t|Maximum berechnen   \t|max(\"ABCFAGJSD\")   \t|\n",
    "|len()   \t|Objekt   \t|Zahl   \t|Länge eines Objektes bestimmen (Anzahl der Items im Objekt)   \t|len(\"The best way to predict the future is to implement it.\")   \t|\n",
    "|str.upper()   \t|String   \t|String   \t|String in Großbuchstaben konvertieren   \t|\"Anaconda\".upper()   \t|\n",
    "|str.lower()   \t|String   \t|String   \t|String in Kleinbuchstaben konvertieren   \t|\"PyTHoN\".lower()   \t|\n",
    "|str.split()   \t|String, Seperator   \t|Liste   \t|Teilt einen String in Listen-Elemente am angegebenen Seperator   \t|\"To be, or not to be\".split(\" \")   \t|\n",
    "|join()   \t|Iterable (Zahl, Liste, String, ...), Seperator   \t|String   \t|Konkateniert Elemente anhand des angegebenen Seperators   \t|(\" \").join(['To', 'be,', 'or', 'not', 'to', 'be'])   \t|"
   ]
  },
  {
   "cell_type": "markdown",
   "metadata": {},
   "source": [
    "#### 2. Funktionen schreiben\n",
    "2.1. Schreiben Sie eine Funktion, die bei Ausführung \"Hello world\" ins Terminal ausgibt."
   ]
  },
  {
   "cell_type": "code",
   "execution_count": 32,
   "metadata": {},
   "outputs": [
    {
     "name": "stdout",
     "output_type": "stream",
     "text": [
      "Hello world!\n"
     ]
    }
   ],
   "source": [
    "def hello_world():\n",
    "    print(\"Hello world!\")\n",
    "hello_world()"
   ]
  },
  {
   "cell_type": "markdown",
   "metadata": {},
   "source": [
    "2.2. Schreiben Sie eine Funktion, die zwei Zahlen addiert."
   ]
  },
  {
   "cell_type": "code",
   "execution_count": 33,
   "metadata": {},
   "outputs": [
    {
     "data": {
      "text/plain": [
       "3"
      ]
     },
     "execution_count": 33,
     "metadata": {},
     "output_type": "execute_result"
    }
   ],
   "source": [
    "def add_num(num1,num2):\n",
    "    return(num1+num2)\n",
    "add_num(1,2)"
   ]
  },
  {
   "cell_type": "markdown",
   "metadata": {},
   "source": [
    "2.3. Schreiben Sie eine Funktion 'greater_than_ten', die nach Übergabe einer Zahl </br> als Rückgabewert liefert, ob die Zahl größer als 10 ist."
   ]
  },
  {
   "cell_type": "code",
   "execution_count": 34,
   "metadata": {},
   "outputs": [
    {
     "data": {
      "text/plain": [
       "True"
      ]
     },
     "execution_count": 34,
     "metadata": {},
     "output_type": "execute_result"
    }
   ],
   "source": [
    "def greater_than_ten(num):\n",
    "    return(num>10)\n",
    "greater_than_ten(19)"
   ]
  },
  {
   "cell_type": "markdown",
   "metadata": {
    "tags": []
   },
   "source": [
    "#### 3. if else\n",
    "3.1. Schreiben Sie eine Funktion `bestanden()` die anhand der Notenpunkte einen String \"bestanden\" oder \"nicht bestanden\" zurückgibt."
   ]
  },
  {
   "cell_type": "code",
   "execution_count": 35,
   "metadata": {},
   "outputs": [
    {
     "data": {
      "text/plain": [
       "'bestanden'"
      ]
     },
     "execution_count": 35,
     "metadata": {},
     "output_type": "execute_result"
    }
   ],
   "source": [
    "def bestanden (punkte):\n",
    "    if punkte >= 5:\n",
    "        status = \"bestanden\"\n",
    "    else:\n",
    "        status = \"nicht bestanden\"\n",
    "    return(status)\n",
    "bestanden(13)"
   ]
  },
  {
   "cell_type": "markdown",
   "metadata": {},
   "source": [
    "3.2. Schreiben Sie eine Funktion 'simple_mult', die eine übergebene Zahl mit 8 multipliziert, sofern sie </br> geradzahlig ist oder sie ansonsten mit 9 multipliziert. Nutzen Sie dazu den Modulo-Operator (%)."
   ]
  },
  {
   "cell_type": "code",
   "execution_count": 36,
   "metadata": {},
   "outputs": [
    {
     "data": {
      "text/plain": [
       "16"
      ]
     },
     "execution_count": 36,
     "metadata": {},
     "output_type": "execute_result"
    }
   ],
   "source": [
    "def simple_mult(num):\n",
    "    if num%2==0:\n",
    "        res = num*8\n",
    "    else:\n",
    "        res = num*9\n",
    "    return(res)\n",
    "simple_mult(2)"
   ]
  },
  {
   "cell_type": "markdown",
   "metadata": {},
   "source": [
    "3.3. In einem Erlebnispark kosten Tickets für Erwachsene (ab 18) 5 Euro, für Teenager (ab 12) 3 Euro und für Kleinkinder 1 Euro. Schreiben Sie eine Funktion `ticket_preis()` für das digitale Kassensystem, die anhand des Alters ausgibt, welcher Ticketpreis bezahlt werden muss."
   ]
  },
  {
   "cell_type": "code",
   "execution_count": 37,
   "metadata": {},
   "outputs": [
    {
     "name": "stdout",
     "output_type": "stream",
     "text": [
      "Das Ticket kostet 5 Euro.\n"
     ]
    }
   ],
   "source": [
    "def ticket_preis(alter):\n",
    "    if alter >= 18:\n",
    "        ticket = 5\n",
    "    elif alter >=12:\n",
    "        ticket = 3\n",
    "    else:\n",
    "        ticket = 1\n",
    "    print('Das Ticket kostet ' + str(ticket) + ' Euro.')\n",
    "ticket_preis(21)"
   ]
  },
  {
   "cell_type": "markdown",
   "metadata": {},
   "source": [
    "#### 4. for-loops\n",
    "Schreiben Sie eine Funktion, die die Fakultät der eingegeben Zahl ermittelt."
   ]
  },
  {
   "cell_type": "code",
   "execution_count": 38,
   "metadata": {},
   "outputs": [
    {
     "data": {
      "text/plain": [
       "24"
      ]
     },
     "execution_count": 38,
     "metadata": {},
     "output_type": "execute_result"
    }
   ],
   "source": [
    "def factorial(num):\n",
    "    fac = 1\n",
    "    for x in range(1,num+1):\n",
    "        fac = fac * x\n",
    "    return(fac)\n",
    "factorial(4)"
   ]
  },
  {
   "cell_type": "markdown",
   "metadata": {},
   "source": [
    "#### 5. Methoden importieren\n",
    "Suchen Sie nach einer Methode in Python, welche die Quadratwurzel einer uebergebenen Zahl berechnet. </br> Berechnen Sie dann damit die Quadratwurzel von 6."
   ]
  },
  {
   "cell_type": "code",
   "execution_count": 39,
   "metadata": {},
   "outputs": [
    {
     "data": {
      "text/plain": [
       "2.449489742783178"
      ]
     },
     "execution_count": 39,
     "metadata": {},
     "output_type": "execute_result"
    }
   ],
   "source": [
    "import math\n",
    "math.sqrt(6)"
   ]
  },
  {
   "cell_type": "markdown",
   "metadata": {},
   "source": [
    "#### 6. Dictionaries\n",
    "6.1. Erstellen Sie eine \"Kartei\" einer imaginären Person, welche an dieser Universität studiert. </br> Nutzen Sie dafür den Datentyp `dictionary`.\n",
    "Folgende Informationen soll die Kartei enthalten: vollständiger Name, Alter, Studiengang, Semester \n",
    "\n",
    "Fügen Sie nachträglich die Information hinzu, welchen Notendurchschnitt diese Person hat."
   ]
  },
  {
   "cell_type": "code",
   "execution_count": 40,
   "metadata": {},
   "outputs": [
    {
     "name": "stdout",
     "output_type": "stream",
     "text": [
      "{'name': 'Neal Caffrey', 'age': 31, 'course': 'medicine', 'semester': 5, 'avg_grade': 1.1}\n"
     ]
    }
   ],
   "source": [
    "student = {'name': 'Neal Caffrey', 'age': 31, 'course': 'medicine', 'semester': 5}\n",
    "student['avg_grade'] = 1.1\n",
    "print(student)"
   ]
  },
  {
   "cell_type": "markdown",
   "metadata": {},
   "source": [
    "6.2. Es wurden Klausurergebnisse einer Klasse in einem Dictionary gespeichert. Leider ist beim Berechnen der Gesamtpunktzahl ein Fehler passiert. </br> Alle Personen haben 5 Punkte zu wenig erhalten.\n",
    "\n",
    "Korrigieren Sie diesen Fehler im unten stehenden Dictionary, indem Sie eine for-loop verwenden.</br> Lassen Sie sich dann das Dictionary ausgeben, um zu überprüfen, ob die Gesamtpunkte richtig geändert wurden."
   ]
  },
  {
   "cell_type": "code",
   "execution_count": 41,
   "metadata": {},
   "outputs": [],
   "source": [
    "score = {'Robert A.': 65, 'Lana F.': 66, 'Aminata H.': 81, 'Oliver N.': 49, 'Ebru S.': 95, 'Mateo S.': 90, 'Viktor W.': 73, 'Chloe Z.': 92}"
   ]
  },
  {
   "cell_type": "code",
   "execution_count": 42,
   "metadata": {},
   "outputs": [
    {
     "name": "stdout",
     "output_type": "stream",
     "text": [
      "{'Robert A.': 70, 'Lana F.': 71, 'Aminata H.': 86, 'Oliver N.': 54, 'Ebru S.': 100, 'Mateo S.': 95, 'Viktor W.': 78, 'Chloe Z.': 97}\n"
     ]
    }
   ],
   "source": [
    "for k,v in score.items():\n",
    "    score[k] = v+5\n",
    "print(score)"
   ]
  },
  {
   "cell_type": "markdown",
   "metadata": {},
   "source": [
    "6.3. Bonusaufgabe </br>\n",
    "Wiederholen Sie die Aufgabe. Diesmal haben jedoch alle Personen bis auf Aminata H. 3 Punkte zu viel erhalten. </br> Verändern Sie das Dictionary entsprechend. \n",
    "Wie kann man einen Iterations-Schritt in einer for-loop überspringen? Versuchen Sie diese Information in Ihrer Lösung einzubauen."
   ]
  },
  {
   "cell_type": "code",
   "execution_count": 43,
   "metadata": {},
   "outputs": [
    {
     "name": "stdout",
     "output_type": "stream",
     "text": [
      "{'Robert A.': 67, 'Lana F.': 68, 'Aminata H.': 86, 'Oliver N.': 51, 'Ebru S.': 97, 'Mateo S.': 92, 'Viktor W.': 75, 'Chloe Z.': 94}\n"
     ]
    }
   ],
   "source": [
    "for k,v in score.items():\n",
    "    if k=='Aminata H.':\n",
    "        continue\n",
    "    else:\n",
    "        score[k] = v-3\n",
    "print(score)"
   ]
  }
 ],
 "metadata": {
  "kernelspec": {
   "display_name": "ggmap",
   "language": "python",
   "name": "ggmap"
  },
  "language_info": {
   "codemirror_mode": {
    "name": "ipython",
    "version": 3
   },
   "file_extension": ".py",
   "mimetype": "text/x-python",
   "name": "python",
   "nbconvert_exporter": "python",
   "pygments_lexer": "ipython3",
   "version": "3.10.9"
  }
 },
 "nbformat": 4,
 "nbformat_minor": 4
}
