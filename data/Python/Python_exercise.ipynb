{
 "cells": [
  {
   "cell_type": "markdown",
   "metadata": {},
   "source": [
    "# Teil 1: Etwas Listen und Logik\n",
    "#### 1. Listen: \n",
    "Was sind die Rückgabewerte der folgenden Ausdrücke? Erklären Sie diese!"
   ]
  },
  {
   "cell_type": "code",
   "execution_count": 1,
   "metadata": {},
   "outputs": [],
   "source": [
    "x = [1, 2, 3, 4, 5, 6, 7, 8, 9, 10]"
   ]
  },
  {
   "cell_type": "code",
   "execution_count": null,
   "metadata": {},
   "outputs": [],
   "source": [
    "x"
   ]
  },
  {
   "cell_type": "code",
   "execution_count": null,
   "metadata": {},
   "outputs": [],
   "source": [
    "x[3]"
   ]
  },
  {
   "cell_type": "code",
   "execution_count": null,
   "metadata": {},
   "outputs": [],
   "source": [
    "x[0:2]"
   ]
  },
  {
   "cell_type": "code",
   "execution_count": null,
   "metadata": {},
   "outputs": [],
   "source": [
    "x[5:]"
   ]
  },
  {
   "cell_type": "code",
   "execution_count": null,
   "metadata": {},
   "outputs": [],
   "source": [
    "x[:5]"
   ]
  },
  {
   "cell_type": "code",
   "execution_count": null,
   "metadata": {},
   "outputs": [],
   "source": [
    "x[-2]"
   ]
  },
  {
   "cell_type": "code",
   "execution_count": null,
   "metadata": {},
   "outputs": [],
   "source": [
    "x[:-2]"
   ]
  },
  {
   "cell_type": "code",
   "execution_count": null,
   "metadata": {},
   "outputs": [],
   "source": [
    "5 in x"
   ]
  },
  {
   "cell_type": "code",
   "execution_count": null,
   "metadata": {},
   "outputs": [],
   "source": [
    "11 in x"
   ]
  },
  {
   "cell_type": "markdown",
   "metadata": {
    "tags": []
   },
   "source": [
    "#### 2. Methoden für Listen\n",
    "\n",
    "Zwei praktische Methoden für das Arbeiten mit Listen sind `append()` und `extend()`."
   ]
  },
  {
   "cell_type": "code",
   "execution_count": null,
   "metadata": {},
   "outputs": [],
   "source": [
    "list1 = [\"Hallo\", \"Hi\", \"Hola\", \"Hej\"]"
   ]
  },
  {
   "cell_type": "code",
   "execution_count": null,
   "metadata": {},
   "outputs": [],
   "source": [
    "list1.append(\"Bonjour\")\n",
    "list1"
   ]
  },
  {
   "cell_type": "code",
   "execution_count": null,
   "metadata": {},
   "outputs": [],
   "source": [
    "list2 = [\"Ciao\"]\n",
    "list1.extend(list2)\n",
    "list1"
   ]
  },
  {
   "cell_type": "markdown",
   "metadata": {},
   "source": [
    "#### 3. Logik: \n",
    "Was sind die Rückgabewerte der folgenden Ausdrücke? Erklären Sie diese."
   ]
  },
  {
   "cell_type": "code",
   "execution_count": null,
   "metadata": {},
   "outputs": [],
   "source": [
    "1 > 2"
   ]
  },
  {
   "cell_type": "code",
   "execution_count": null,
   "metadata": {},
   "outputs": [],
   "source": [
    "1+1 == 2 & 1+1 == 3 "
   ]
  },
  {
   "cell_type": "code",
   "execution_count": null,
   "metadata": {},
   "outputs": [],
   "source": [
    "1+1 >= 2"
   ]
  },
  {
   "cell_type": "code",
   "execution_count": null,
   "metadata": {},
   "outputs": [],
   "source": [
    "x[:5]<x[5:]"
   ]
  },
  {
   "cell_type": "code",
   "execution_count": null,
   "metadata": {},
   "outputs": [],
   "source": [
    "1 != 2"
   ]
  },
  {
   "cell_type": "code",
   "execution_count": null,
   "metadata": {},
   "outputs": [],
   "source": [
    "\"A\" > \"B\""
   ]
  },
  {
   "cell_type": "code",
   "execution_count": null,
   "metadata": {},
   "outputs": [],
   "source": [
    "\"A\" < \"B\""
   ]
  },
  {
   "cell_type": "code",
   "execution_count": null,
   "metadata": {},
   "outputs": [],
   "source": [
    "\"Apfel\" + \"kuchen\" == \"Apfelkuchen\""
   ]
  },
  {
   "cell_type": "markdown",
   "metadata": {},
   "source": [
    "#### 4. `type()`\n",
    "Variablen besitzen einen Type, welcher mittels `type()` angezeigt werden kann. "
   ]
  },
  {
   "cell_type": "code",
   "execution_count": null,
   "metadata": {},
   "outputs": [],
   "source": [
    "variable_string = \"Apfelkuchen\"\n",
    "variable_int = 42\n",
    "variable_float = 3.14\n",
    "variable_list = [1,2,3]\n",
    "variable_tuple = (1,2,3)"
   ]
  },
  {
   "cell_type": "code",
   "execution_count": null,
   "metadata": {},
   "outputs": [],
   "source": [
    "type(variable_string)"
   ]
  },
  {
   "cell_type": "code",
   "execution_count": null,
   "metadata": {},
   "outputs": [],
   "source": [
    "type(variable_int)"
   ]
  },
  {
   "cell_type": "code",
   "execution_count": null,
   "metadata": {},
   "outputs": [],
   "source": [
    "type(variable_float)"
   ]
  },
  {
   "cell_type": "code",
   "execution_count": null,
   "metadata": {},
   "outputs": [],
   "source": [
    "type(variable_list)"
   ]
  },
  {
   "cell_type": "code",
   "execution_count": null,
   "metadata": {},
   "outputs": [],
   "source": [
    "type(variable_tuple)"
   ]
  },
  {
   "cell_type": "markdown",
   "metadata": {},
   "source": [
    "Typen können verändert werden:"
   ]
  },
  {
   "cell_type": "code",
   "execution_count": null,
   "metadata": {},
   "outputs": [],
   "source": [
    "int_to_str = str(variable_int)\n",
    "int_to_str"
   ]
  },
  {
   "cell_type": "code",
   "execution_count": null,
   "metadata": {},
   "outputs": [],
   "source": [
    "type(int_to_str)"
   ]
  },
  {
   "cell_type": "markdown",
   "metadata": {},
   "source": [
    "Manchmal ist dies notwendig, um bestimmte Funktionen durchzuführen. Führen Sie die unten stehende Zelle aus und ändern Sie den Code entsprechend, um den Satz ausgeben zu lassen (unter Benutzung der Variablen)."
   ]
  },
  {
   "cell_type": "code",
   "execution_count": null,
   "metadata": {},
   "outputs": [],
   "source": [
    "print(\"Ich möchte \" + variable_int + \" Stücke \" + variable_string + \".\")"
   ]
  },
  {
   "cell_type": "code",
   "execution_count": null,
   "metadata": {},
   "outputs": [],
   "source": []
  },
  {
   "cell_type": "markdown",
   "metadata": {},
   "source": [
    "# Teil 2: Funktionen"
   ]
  },
  {
   "cell_type": "markdown",
   "metadata": {
    "tags": []
   },
   "source": [
    "#### 1. Funktionen verstehen\n",
    "Finden Sie Informationen zu Input, Output und Funktion für die folgenden Methoden: </br>\n",
    "`sum(), round(), min(), max()` </br>\n",
    "`len(), str.upper(), str.lower(), str.split(), str.join()`\n",
    "\n",
    "Benutzen Sie dafür eine Suchmaschine oder tippe `help()` in eine Zelle des JupyterHubs \n",
    "\n",
    "Schreiben Sie außerdem einen Beispielaufruf für die entsprechende Methode auf."
   ]
  },
  {
   "cell_type": "markdown",
   "metadata": {},
   "source": []
  },
  {
   "cell_type": "markdown",
   "metadata": {},
   "source": [
    "#### 2. Funktionen schreiben\n",
    "2.1. Schreiben Sie eine Funktion, die bei Ausführung \"Hello world\" ins Terminal ausgibt."
   ]
  },
  {
   "cell_type": "code",
   "execution_count": null,
   "metadata": {},
   "outputs": [],
   "source": []
  },
  {
   "cell_type": "markdown",
   "metadata": {},
   "source": [
    "2.2. Schreiben Sie eine Funktion, die zwei Zahlen addiert."
   ]
  },
  {
   "cell_type": "code",
   "execution_count": null,
   "metadata": {},
   "outputs": [],
   "source": []
  },
  {
   "cell_type": "markdown",
   "metadata": {},
   "source": [
    "2.3. Schreiben Sie eine Funktion `greater_than_ten()`, die nach Übergabe einer Zahl </br> als Rückgabewert liefert, ob die Zahl größer als 10 ist."
   ]
  },
  {
   "cell_type": "code",
   "execution_count": null,
   "metadata": {},
   "outputs": [],
   "source": []
  },
  {
   "cell_type": "markdown",
   "metadata": {
    "tags": []
   },
   "source": [
    "#### 3. if else\n",
    "3.1. Schreiben Sie eine Funktion `bestanden()` die anhand der Notenpunkte einen String \"bestanden\" oder \"nicht bestanden\" zurückgibt."
   ]
  },
  {
   "cell_type": "code",
   "execution_count": null,
   "metadata": {},
   "outputs": [],
   "source": []
  },
  {
   "cell_type": "markdown",
   "metadata": {},
   "source": [
    "3.2. Schreiben Sie eine Funktion `simple_mult()`, die eine übergebene Zahl mit 8 multipliziert, sofern sie </br> geradzahlig ist oder sie ansonsten mit 9 multipliziert. Nutzen Sie dazu den Modulo-Operator (%)."
   ]
  },
  {
   "cell_type": "code",
   "execution_count": null,
   "metadata": {},
   "outputs": [],
   "source": []
  },
  {
   "cell_type": "markdown",
   "metadata": {},
   "source": [
    "3.3. In einem Erlebnispark kosten Tickets für Erwachsene (ab 18) 5 Euro, für Teenager (ab 12) 3 Euro und für Kleinkinder 1 Euro. Schreiben Sie eine Funktion `ticket_preis()` für das digitale Kassensystem, die anhand des Alters ausgibt, welcher Ticketpreis bezahlt werden muss."
   ]
  },
  {
   "cell_type": "code",
   "execution_count": null,
   "metadata": {},
   "outputs": [],
   "source": []
  },
  {
   "cell_type": "markdown",
   "metadata": {},
   "source": [
    "#### 4. for-loops\n",
    "Schreiben Sie eine Funktion, die die Fakultät der eingegeben Zahl ermittelt."
   ]
  },
  {
   "cell_type": "code",
   "execution_count": null,
   "metadata": {},
   "outputs": [],
   "source": []
  },
  {
   "cell_type": "markdown",
   "metadata": {},
   "source": [
    "#### 5. Methoden importieren\n",
    "Suchen Sie nach einer Methode in Python, welche die Quadratwurzel einer uebergebenen Zahl berechnet. </br> Berechnen Sie dann damit die Quadratwurzel von 6."
   ]
  },
  {
   "cell_type": "code",
   "execution_count": null,
   "metadata": {},
   "outputs": [],
   "source": []
  },
  {
   "cell_type": "markdown",
   "metadata": {},
   "source": [
    "#### 6. Dictionaries\n",
    "6.1. Erstellen Sie eine \"Kartei\" einer imaginären Person, welche an dieser Universität studiert. </br> Nutzen Sie dafür den Datentyp `dictionary`.\n",
    "Folgende Informationen soll die Kartei enthalten: vollständiger Name, Alter, Studiengang, Semester \n",
    "\n",
    "Fügen Sie nachträglich die Information hinzu, welchen Notendurchschnitt diese Person hat."
   ]
  },
  {
   "cell_type": "code",
   "execution_count": null,
   "metadata": {},
   "outputs": [],
   "source": []
  },
  {
   "cell_type": "markdown",
   "metadata": {},
   "source": [
    "6.2. Es wurden Klausurergebnisse einer Klasse in einem Dictionary gespeichert. Leider ist beim Berechnen der Gesamtpunktzahl ein Fehler passiert. </br> Alle Personen haben 5 Punkte zu wenig erhalten.\n",
    "\n",
    "Korrigieren Sie diesen Fehler im unten stehenden Dictionary, indem Sie eine for-loop verwenden.</br> Lassen Sie sich dann das Dictionary ausgeben, um zu überprüfen, ob die Gesamtpunkte richtig geändert wurden."
   ]
  },
  {
   "cell_type": "code",
   "execution_count": null,
   "metadata": {},
   "outputs": [],
   "source": [
    "score = {'Robert A.': 65, 'Lana F.': 66, 'Aminata H.': 81, 'Oliver N.': 49, 'Ebru S.': 95, 'Mateo S.': 90, 'Viktor W.': 73, 'Chloe Z.': 92}"
   ]
  },
  {
   "cell_type": "code",
   "execution_count": null,
   "metadata": {},
   "outputs": [],
   "source": []
  },
  {
   "cell_type": "markdown",
   "metadata": {},
   "source": [
    "6.3. Bonusaufgabe </br>\n",
    "Wiederholen Sie die Aufgabe. Diesmal haben jedoch alle Personen bis auf Aminata H. 3 Punkte zu viel erhalten. </br> Verändern Sie das Dictionary entsprechend. \n",
    "Wie kann man einen Iterations-Schritt in einer for-loop überspringen? Versuchen Sie diese Information in Ihrer Lösung einzubauen."
   ]
  },
  {
   "cell_type": "code",
   "execution_count": null,
   "metadata": {},
   "outputs": [],
   "source": []
  }
 ],
 "metadata": {
  "kernelspec": {
   "display_name": "Python 3 (ipykernel)",
   "language": "python",
   "name": "python3"
  },
  "language_info": {
   "codemirror_mode": {
    "name": "ipython",
    "version": 3
   },
   "file_extension": ".py",
   "mimetype": "text/x-python",
   "name": "python",
   "nbconvert_exporter": "python",
   "pygments_lexer": "ipython3",
   "version": "3.11.2"
  }
 },
 "nbformat": 4,
 "nbformat_minor": 4
}
