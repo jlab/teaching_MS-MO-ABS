{
 "cells": [
  {
   "cell_type": "markdown",
   "metadata": {},
   "source": [
    "# Normalize and Visualize Count Tables\n",
    "\n",
    "We want to manually normalize our count table with TPM and RPKM normalization.\\\n",
    "Since we must not compare samples of different conditions with those methods we will use only our TNF samples for the analysis.\\\n",
    "\\\n",
    "Afterward we will create a plot to examine our normalized count data and find out what we can use them for.\n"
   ]
  },
  {
   "cell_type": "code",
   "execution_count": 68,
   "metadata": {},
   "outputs": [],
   "source": [
    "%matplotlib  inline\n",
    "\n",
    "# import neccessary python packages\n",
    "import pandas as pd\n",
    "import seaborn as sns\n",
    "import matplotlib.pyplot as plt"
   ]
  },
  {
   "cell_type": "markdown",
   "metadata": {},
   "source": [
    "### Task1: Import count table\n",
    "You find the TNF count table in `/Data/RNAseq/RNA_Scr_feature_counts.tsv`. \\\n",
    "Import the file as a pandas DataFrame. Find out via Google how you can skip the first row of our file (the row starting with `#`). "
   ]
  },
  {
   "cell_type": "code",
   "execution_count": 48,
   "metadata": {},
   "outputs": [],
   "source": [
    "## read feature counts table as pandas dataframe\n",
    "\n",
    "fp_counts = '/Data/RNAseq/RNA_Scr_feature_counts.tsv'\n",
    "\n",
    "# either:\n",
    "if False:\n",
    "    counts_df = pd.read_csv(fp_counts, sep=\"\\t\", skiprows=1)\n",
    "else:\n",
    "# or:\n",
    "    counts_df = pd.read_csv(fp_counts, sep=\"\\t\", comment='#')"
   ]
  },
  {
   "cell_type": "code",
   "execution_count": 49,
   "metadata": {},
   "outputs": [
    {
     "data": {
      "text/html": [
       "<div>\n",
       "<style scoped>\n",
       "    .dataframe tbody tr th:only-of-type {\n",
       "        vertical-align: middle;\n",
       "    }\n",
       "\n",
       "    .dataframe tbody tr th {\n",
       "        vertical-align: top;\n",
       "    }\n",
       "\n",
       "    .dataframe thead th {\n",
       "        text-align: right;\n",
       "    }\n",
       "</style>\n",
       "<table border=\"1\" class=\"dataframe\">\n",
       "  <thead>\n",
       "    <tr style=\"text-align: right;\">\n",
       "      <th></th>\n",
       "      <th>Geneid</th>\n",
       "      <th>Chr</th>\n",
       "      <th>Start</th>\n",
       "      <th>End</th>\n",
       "      <th>Strand</th>\n",
       "      <th>Length</th>\n",
       "      <th>no_backup/Generated/RNAseq/RNA_Scr_V1_hisat2_spliced.sorted.bam</th>\n",
       "      <th>no_backup/Generated/RNAseq/RNA_Scr_V2_hisat2_spliced.sorted.bam</th>\n",
       "      <th>no_backup/Generated/RNAseq/RNA_Scr_V3_hisat2_spliced.sorted.bam</th>\n",
       "      <th>no_backup/Generated/RNAseq/RNA_Scr_T1_hisat2_spliced.sorted.bam</th>\n",
       "      <th>no_backup/Generated/RNAseq/RNA_Scr_T2_hisat2_spliced.sorted.bam</th>\n",
       "      <th>no_backup/Generated/RNAseq/RNA_Scr_T3_hisat2_spliced.sorted.bam</th>\n",
       "    </tr>\n",
       "  </thead>\n",
       "  <tbody>\n",
       "    <tr>\n",
       "      <th>0</th>\n",
       "      <td>TRNP</td>\n",
       "      <td>chrMT</td>\n",
       "      <td>15956</td>\n",
       "      <td>16023</td>\n",
       "      <td>-</td>\n",
       "      <td>68</td>\n",
       "      <td>0</td>\n",
       "      <td>0</td>\n",
       "      <td>0</td>\n",
       "      <td>0</td>\n",
       "      <td>0</td>\n",
       "      <td>0</td>\n",
       "    </tr>\n",
       "    <tr>\n",
       "      <th>1</th>\n",
       "      <td>TRNT</td>\n",
       "      <td>chrMT</td>\n",
       "      <td>15888</td>\n",
       "      <td>15953</td>\n",
       "      <td>+</td>\n",
       "      <td>66</td>\n",
       "      <td>0</td>\n",
       "      <td>0</td>\n",
       "      <td>0</td>\n",
       "      <td>0</td>\n",
       "      <td>0</td>\n",
       "      <td>0</td>\n",
       "    </tr>\n",
       "    <tr>\n",
       "      <th>2</th>\n",
       "      <td>CYTB</td>\n",
       "      <td>chrMT</td>\n",
       "      <td>14747</td>\n",
       "      <td>15887</td>\n",
       "      <td>+</td>\n",
       "      <td>1141</td>\n",
       "      <td>0</td>\n",
       "      <td>0</td>\n",
       "      <td>0</td>\n",
       "      <td>0</td>\n",
       "      <td>0</td>\n",
       "      <td>0</td>\n",
       "    </tr>\n",
       "    <tr>\n",
       "      <th>3</th>\n",
       "      <td>TRNE</td>\n",
       "      <td>chrMT</td>\n",
       "      <td>14674</td>\n",
       "      <td>14742</td>\n",
       "      <td>-</td>\n",
       "      <td>69</td>\n",
       "      <td>0</td>\n",
       "      <td>0</td>\n",
       "      <td>0</td>\n",
       "      <td>0</td>\n",
       "      <td>0</td>\n",
       "      <td>0</td>\n",
       "    </tr>\n",
       "    <tr>\n",
       "      <th>4</th>\n",
       "      <td>ND6</td>\n",
       "      <td>chrMT</td>\n",
       "      <td>14149</td>\n",
       "      <td>14673</td>\n",
       "      <td>-</td>\n",
       "      <td>525</td>\n",
       "      <td>0</td>\n",
       "      <td>0</td>\n",
       "      <td>0</td>\n",
       "      <td>0</td>\n",
       "      <td>0</td>\n",
       "      <td>0</td>\n",
       "    </tr>\n",
       "    <tr>\n",
       "      <th>...</th>\n",
       "      <td>...</td>\n",
       "      <td>...</td>\n",
       "      <td>...</td>\n",
       "      <td>...</td>\n",
       "      <td>...</td>\n",
       "      <td>...</td>\n",
       "      <td>...</td>\n",
       "      <td>...</td>\n",
       "      <td>...</td>\n",
       "      <td>...</td>\n",
       "      <td>...</td>\n",
       "      <td>...</td>\n",
       "    </tr>\n",
       "    <tr>\n",
       "      <th>43677</th>\n",
       "      <td>FAM138A</td>\n",
       "      <td>chr1;chr1;chr1</td>\n",
       "      <td>34611;35277;35721</td>\n",
       "      <td>35174;35481;36081</td>\n",
       "      <td>-;-;-</td>\n",
       "      <td>1130</td>\n",
       "      <td>0</td>\n",
       "      <td>1</td>\n",
       "      <td>0</td>\n",
       "      <td>1</td>\n",
       "      <td>0</td>\n",
       "      <td>1</td>\n",
       "    </tr>\n",
       "    <tr>\n",
       "      <th>43678</th>\n",
       "      <td>MIR1302-2</td>\n",
       "      <td>chr1</td>\n",
       "      <td>30366</td>\n",
       "      <td>30503</td>\n",
       "      <td>+</td>\n",
       "      <td>138</td>\n",
       "      <td>0</td>\n",
       "      <td>0</td>\n",
       "      <td>0</td>\n",
       "      <td>1</td>\n",
       "      <td>0</td>\n",
       "      <td>0</td>\n",
       "    </tr>\n",
       "    <tr>\n",
       "      <th>43679</th>\n",
       "      <td>MIR6859-1</td>\n",
       "      <td>chr1</td>\n",
       "      <td>17369</td>\n",
       "      <td>17436</td>\n",
       "      <td>-</td>\n",
       "      <td>68</td>\n",
       "      <td>5</td>\n",
       "      <td>8</td>\n",
       "      <td>6</td>\n",
       "      <td>6</td>\n",
       "      <td>2</td>\n",
       "      <td>7</td>\n",
       "    </tr>\n",
       "    <tr>\n",
       "      <th>43680</th>\n",
       "      <td>WASH7P</td>\n",
       "      <td>chr1;chr1;chr1;chr1;chr1;chr1;chr1;chr1;chr1;c...</td>\n",
       "      <td>14362;14970;15796;16607;16858;17233;17606;1791...</td>\n",
       "      <td>14829;15038;15947;16765;17055;17368;17742;1806...</td>\n",
       "      <td>-;-;-;-;-;-;-;-;-;-;-</td>\n",
       "      <td>1769</td>\n",
       "      <td>229</td>\n",
       "      <td>310</td>\n",
       "      <td>218</td>\n",
       "      <td>225</td>\n",
       "      <td>190</td>\n",
       "      <td>158</td>\n",
       "    </tr>\n",
       "    <tr>\n",
       "      <th>43681</th>\n",
       "      <td>DDX11L1</td>\n",
       "      <td>chr1;chr1;chr1</td>\n",
       "      <td>11874;12613;13221</td>\n",
       "      <td>12227;12721;14409</td>\n",
       "      <td>+;+;+</td>\n",
       "      <td>1652</td>\n",
       "      <td>22</td>\n",
       "      <td>19</td>\n",
       "      <td>21</td>\n",
       "      <td>10</td>\n",
       "      <td>18</td>\n",
       "      <td>22</td>\n",
       "    </tr>\n",
       "  </tbody>\n",
       "</table>\n",
       "<p>43682 rows × 12 columns</p>\n",
       "</div>"
      ],
      "text/plain": [
       "          Geneid                                                Chr  \\\n",
       "0           TRNP                                              chrMT   \n",
       "1           TRNT                                              chrMT   \n",
       "2           CYTB                                              chrMT   \n",
       "3           TRNE                                              chrMT   \n",
       "4            ND6                                              chrMT   \n",
       "...          ...                                                ...   \n",
       "43677    FAM138A                                     chr1;chr1;chr1   \n",
       "43678  MIR1302-2                                               chr1   \n",
       "43679  MIR6859-1                                               chr1   \n",
       "43680     WASH7P  chr1;chr1;chr1;chr1;chr1;chr1;chr1;chr1;chr1;c...   \n",
       "43681    DDX11L1                                     chr1;chr1;chr1   \n",
       "\n",
       "                                                   Start  \\\n",
       "0                                                  15956   \n",
       "1                                                  15888   \n",
       "2                                                  14747   \n",
       "3                                                  14674   \n",
       "4                                                  14149   \n",
       "...                                                  ...   \n",
       "43677                                  34611;35277;35721   \n",
       "43678                                              30366   \n",
       "43679                                              17369   \n",
       "43680  14362;14970;15796;16607;16858;17233;17606;1791...   \n",
       "43681                                  11874;12613;13221   \n",
       "\n",
       "                                                     End  \\\n",
       "0                                                  16023   \n",
       "1                                                  15953   \n",
       "2                                                  15887   \n",
       "3                                                  14742   \n",
       "4                                                  14673   \n",
       "...                                                  ...   \n",
       "43677                                  35174;35481;36081   \n",
       "43678                                              30503   \n",
       "43679                                              17436   \n",
       "43680  14829;15038;15947;16765;17055;17368;17742;1806...   \n",
       "43681                                  12227;12721;14409   \n",
       "\n",
       "                      Strand  Length  \\\n",
       "0                          -      68   \n",
       "1                          +      66   \n",
       "2                          +    1141   \n",
       "3                          -      69   \n",
       "4                          -     525   \n",
       "...                      ...     ...   \n",
       "43677                  -;-;-    1130   \n",
       "43678                      +     138   \n",
       "43679                      -      68   \n",
       "43680  -;-;-;-;-;-;-;-;-;-;-    1769   \n",
       "43681                  +;+;+    1652   \n",
       "\n",
       "       no_backup/Generated/RNAseq/RNA_Scr_V1_hisat2_spliced.sorted.bam  \\\n",
       "0                                                      0                 \n",
       "1                                                      0                 \n",
       "2                                                      0                 \n",
       "3                                                      0                 \n",
       "4                                                      0                 \n",
       "...                                                  ...                 \n",
       "43677                                                  0                 \n",
       "43678                                                  0                 \n",
       "43679                                                  5                 \n",
       "43680                                                229                 \n",
       "43681                                                 22                 \n",
       "\n",
       "       no_backup/Generated/RNAseq/RNA_Scr_V2_hisat2_spliced.sorted.bam  \\\n",
       "0                                                      0                 \n",
       "1                                                      0                 \n",
       "2                                                      0                 \n",
       "3                                                      0                 \n",
       "4                                                      0                 \n",
       "...                                                  ...                 \n",
       "43677                                                  1                 \n",
       "43678                                                  0                 \n",
       "43679                                                  8                 \n",
       "43680                                                310                 \n",
       "43681                                                 19                 \n",
       "\n",
       "       no_backup/Generated/RNAseq/RNA_Scr_V3_hisat2_spliced.sorted.bam  \\\n",
       "0                                                      0                 \n",
       "1                                                      0                 \n",
       "2                                                      0                 \n",
       "3                                                      0                 \n",
       "4                                                      0                 \n",
       "...                                                  ...                 \n",
       "43677                                                  0                 \n",
       "43678                                                  0                 \n",
       "43679                                                  6                 \n",
       "43680                                                218                 \n",
       "43681                                                 21                 \n",
       "\n",
       "       no_backup/Generated/RNAseq/RNA_Scr_T1_hisat2_spliced.sorted.bam  \\\n",
       "0                                                      0                 \n",
       "1                                                      0                 \n",
       "2                                                      0                 \n",
       "3                                                      0                 \n",
       "4                                                      0                 \n",
       "...                                                  ...                 \n",
       "43677                                                  1                 \n",
       "43678                                                  1                 \n",
       "43679                                                  6                 \n",
       "43680                                                225                 \n",
       "43681                                                 10                 \n",
       "\n",
       "       no_backup/Generated/RNAseq/RNA_Scr_T2_hisat2_spliced.sorted.bam  \\\n",
       "0                                                      0                 \n",
       "1                                                      0                 \n",
       "2                                                      0                 \n",
       "3                                                      0                 \n",
       "4                                                      0                 \n",
       "...                                                  ...                 \n",
       "43677                                                  0                 \n",
       "43678                                                  0                 \n",
       "43679                                                  2                 \n",
       "43680                                                190                 \n",
       "43681                                                 18                 \n",
       "\n",
       "       no_backup/Generated/RNAseq/RNA_Scr_T3_hisat2_spliced.sorted.bam  \n",
       "0                                                      0                \n",
       "1                                                      0                \n",
       "2                                                      0                \n",
       "3                                                      0                \n",
       "4                                                      0                \n",
       "...                                                  ...                \n",
       "43677                                                  1                \n",
       "43678                                                  0                \n",
       "43679                                                  7                \n",
       "43680                                                158                \n",
       "43681                                                 22                \n",
       "\n",
       "[43682 rows x 12 columns]"
      ]
     },
     "execution_count": 49,
     "metadata": {},
     "output_type": "execute_result"
    }
   ],
   "source": [
    "counts_df"
   ]
  },
  {
   "cell_type": "markdown",
   "metadata": {},
   "source": [
    "## Task2: Rename the sample column names\n",
    "Our samples are currently named e.g. `mapping/RNAseq_shScr_TNF1_srt.bam`. This is a rather long string and we want to change that. \\\n",
    "Find out how to rename columns of a pandas DataFrame and think of a more convenient name for our samples."
   ]
  },
  {
   "cell_type": "code",
   "execution_count": null,
   "metadata": {},
   "outputs": [],
   "source": []
  },
  {
   "cell_type": "markdown",
   "metadata": {},
   "source": [
    "## Task3: Extract count value columns\n",
    "For both TPM and RKPM we only normalize the count data of our samples. Especially, only for samples of the same condition, i.e. biological replicates. Here we only take the TNF samples 1, 2 and 3 (but not the vehicle samples 1, 2 and 4)! \\\n",
    "Extract those columns and save them in a seperate pandas DataFrame. \\\n",
    "The result should be a DataFrame with three columns (TNF1-3)."
   ]
  },
  {
   "cell_type": "code",
   "execution_count": 51,
   "metadata": {},
   "outputs": [],
   "source": [
    "tnf_counts_df = ...your code here ..."
   ]
  },
  {
   "cell_type": "code",
   "execution_count": null,
   "metadata": {
    "tags": []
   },
   "outputs": [],
   "source": [
    "tnf_counts_df"
   ]
  },
  {
   "cell_type": "markdown",
   "metadata": {},
   "source": [
    "## Task4: Extract `Length` column\n",
    "For both TPM and RKPM we need the information about the gene length of all the genes. \\\n",
    "Extract the column named `Length` and save it in a seperate pandas DataFrame."
   ]
  },
  {
   "cell_type": "code",
   "execution_count": 53,
   "metadata": {},
   "outputs": [],
   "source": [
    "# extract gene length column\n",
    "tnf_gene_length = ...your code here ..."
   ]
  },
  {
   "cell_type": "code",
   "execution_count": null,
   "metadata": {},
   "outputs": [],
   "source": [
    "tnf_gene_length"
   ]
  },
  {
   "cell_type": "markdown",
   "metadata": {},
   "source": [
    "# Normalization\n",
    "We can begin with the normalization of our samples.\\\n",
    "For this purpose we will use the DataFrame of our samples as well as the DataFrame containing the informaiton about the gene lengths."
   ]
  },
  {
   "cell_type": "markdown",
   "metadata": {},
   "source": [
    "## Task5: TPM normalization\n",
    "\n",
    "To execute the TPM normalization, use the following formula: \\\n",
    "<span style=\"color:red\">**10^6 * (count value / gene length) / sum(count value / gene length)**</span> \\\n",
    "\\\n",
    "Save the intermediate results in their own DataFrames if neccessary. \\\n",
    "At the end, combine the TPM normalized count values with the first six columns of our original count data (Columns `Geneid` up to `Length`).\\\n",
    "The result should be a DataFrame looking like the `TNF_counts.tsv`, only now with normalized counts."
   ]
  },
  {
   "cell_type": "code",
   "execution_count": 55,
   "metadata": {},
   "outputs": [],
   "source": [
    "# count value divided by gene length\n",
    "counts_per_base = ...your code here ...\n",
    "\n",
    "# sum of count values divided by gene length\n",
    "counts_per_base_sums = ...your code here ...\n",
    "\n",
    "# calculate tpm values\n",
    "tnf_tpm_values = ...your code here ...\n",
    "\n",
    "# combine new tpm values with rest of the count table columns\n",
    "tnf_tpm = ...your code here ..."
   ]
  },
  {
   "cell_type": "code",
   "execution_count": null,
   "metadata": {
    "tags": []
   },
   "outputs": [],
   "source": [
    "tnf_tpm"
   ]
  },
  {
   "cell_type": "markdown",
   "metadata": {},
   "source": [
    "## Task6: RPKM normalization\n",
    "\n",
    "To execute the RPKM normalization, use the following formula: \\\n",
    "<span style=\"color:red\">**(10^9 * count value) / (sum(count value) * gene length) = ((10^9 * count value) / sum(count value)) / gene length**</span> \\\n",
    "\\\n",
    "Save the intermediate results in their own DataFrames if neccessary. \\\n",
    "At the end, combine the RPKM normalized count values with the first six columns of our original count data (Columns `Geneid` up to `Length`).\\\n",
    "The result should be a DataFrame looking like the `TNF_counts.tsv`, only now with normalized counts.\n",
    "\n"
   ]
  },
  {
   "cell_type": "code",
   "execution_count": 57,
   "metadata": {},
   "outputs": [],
   "source": [
    "# sum of count values\n",
    "count_sums = ...your code here ...\n",
    "\n",
    "# calculate rpkm values\n",
    "tnf_rpkm_values = ...your code here ...\n",
    "\n",
    "# combine new rpkm values with rest of the count table columns\n",
    "tnf_rpkm = ...your code here ..."
   ]
  },
  {
   "cell_type": "code",
   "execution_count": null,
   "metadata": {
    "tags": []
   },
   "outputs": [],
   "source": [
    "tnf_rpkm"
   ]
  },
  {
   "cell_type": "markdown",
   "metadata": {},
   "source": [
    "## Task7: Export normalized count tables as a tsv file\n",
    "Normally, we want to keep using our normalized count tables for further analyses. \\\n",
    "Therefore, save both your normalized DataFrames as a tsv file."
   ]
  },
  {
   "cell_type": "code",
   "execution_count": 38,
   "metadata": {},
   "outputs": [],
   "source": [
    "...your code here ..."
   ]
  },
  {
   "cell_type": "markdown",
   "metadata": {},
   "source": [
    "## Task8: Combine both dataframes for visualization purposes\n",
    "To properly visualize (and compare) both normalization methods, we need to combine both DataFrames. \\\n",
    "<span style=\"color:red\">Note, that you have to rename the columns again (e.g. `T1` needs to be renamed to `TPM_T1` and `RPKM_T1`).</span> \\\n",
    "As a result you should have a DataFrame with six columns (`TPM_T1-3` and `RPKM_T1-3`)."
   ]
  },
  {
   "cell_type": "code",
   "execution_count": 64,
   "metadata": {},
   "outputs": [],
   "source": [
    "tnf_norm = ...your code here ..."
   ]
  },
  {
   "cell_type": "code",
   "execution_count": null,
   "metadata": {},
   "outputs": [],
   "source": [
    "tnf_norm"
   ]
  },
  {
   "cell_type": "markdown",
   "metadata": {},
   "source": [
    "## Task9: Inspect TPM vs. RPKM\n",
    "Calculate the sum of all columns with the following function: \\\n",
    "`dataframe.apply(sum)` \\\n",
    "Instead of `dataframe` insert the name of your combined DataFrame from Task8. \\\n",
    "Explain what you see! "
   ]
  },
  {
   "cell_type": "code",
   "execution_count": null,
   "metadata": {},
   "outputs": [],
   "source": [
    "...your code here ..."
   ]
  },
  {
   "cell_type": "markdown",
   "metadata": {},
   "source": [
    "# Visualization\n",
    "We will now visualize our normalized data to see the difference between TPM and RPKM - and why we should prefer one over the other.\\\n",
    "Therefore, we will create six histograms with seaborn of our normalized samples.\n",
    "\n",
    "Look at the last three bars of each plot. Use your observations to explain why RPKM should not be used to compare genes of different samples. "
   ]
  },
  {
   "cell_type": "code",
   "execution_count": null,
   "metadata": {},
   "outputs": [],
   "source": [
    "df = tnf_norm  # could also be tnf_norm2\n",
    "\n",
    "fig, axes = plt.subplots(df.shape[1], sharex=False, sharey=True, figsize=(20, df.shape[1]*3.5))\n",
    "for ax, sample in zip(axes, df.columns):\n",
    "    g = sns.histplot(ax=ax, data=tnf_norm[sample], binwidth=1000)\n",
    "    ax.set_yscale('log')\n",
    "    ax.set_xlim((-10000, 600000))"
   ]
  },
  {
   "cell_type": "markdown",
   "metadata": {
    "collapsed": true,
    "jupyter": {
     "outputs_hidden": true
    },
    "tags": []
   },
   "source": [
    "### Erklärung des Plots:\n",
    "Verteilung Daten - wenige Gene mit hoher Expression \\\n",
    "Unterschied TPM und RPKM: \\\n",
    "Vgl höchstes Gen: \n",
    "- bei TPM sieht man dass in TNF1 die höchsten Gene die niedrigste Expression haben\n",
    "- bei RPKM sieht es so aus als ob es stattdessen TNF2 wäre (RPKM = kein Vgl zwischen Samples erlaubt!!)"
   ]
  },
  {
   "cell_type": "markdown",
   "metadata": {},
   "source": [
    "## DESeq2 and GenExVis \n",
    "\n",
    "Since we must not use RPKM or TPM to find differentially expressed genes between two (or more) conditions, we will use DESeq2 for the downstream analysis of our samples.\n",
    "\n",
    "### Preparation\n",
    "We need to create a \"translation table\" to let DESeq2 know which samples shall belong to which \"condition\".\n",
    "  1. collect original sample names from your featureCount result. Unfortunately, R is not able to handle `/` as part of the sample names. However, HiSat2 might have included parts of file paths into the sample names. We therefore have to replace any `/` with `.` (which is also R's internal strategy to resolve this issue.)"
   ]
  },
  {
   "cell_type": "code",
   "execution_count": null,
   "metadata": {},
   "outputs": [],
   "source": [
    "samplenames = ...your code here ...\n",
    "samplenames"
   ]
  },
  {
   "cell_type": "markdown",
   "metadata": {},
   "source": [
    "  2. assign \"condition\" names, i.e. `ctrl` to the vector samples and `TNF` to the TNF sampels"
   ]
  },
  {
   "cell_type": "code",
   "execution_count": 95,
   "metadata": {},
   "outputs": [
    {
     "data": {
      "text/plain": [
       "['ctrl', 'ctrl', 'ctrl', 'TNF', 'TNF', 'TNF']"
      ]
     },
     "execution_count": 95,
     "metadata": {},
     "output_type": "execute_result"
    }
   ],
   "source": []
  },
  {
   "cell_type": "markdown",
   "metadata": {},
   "source": [
    "  3. merge both into a pandas.Dataframe and store result into a *.tsv file"
   ]
  },
  {
   "cell_type": "code",
   "execution_count": 98,
   "metadata": {},
   "outputs": [],
   "source": [
    "fp_conditions = 'conditions.tsv'\n",
    "\n",
    "...your code here ..."
   ]
  },
  {
   "cell_type": "code",
   "execution_count": 99,
   "metadata": {},
   "outputs": [
    {
     "name": "stdout",
     "output_type": "stream",
     "text": [
      "# sample_name\tcondition\n",
      "no_backup.Generated.RNAseq.RNA_Scr_V1_hisat2_spliced.sorted.bam\tctrl\n",
      "no_backup.Generated.RNAseq.RNA_Scr_V2_hisat2_spliced.sorted.bam\tctrl\n",
      "no_backup.Generated.RNAseq.RNA_Scr_V3_hisat2_spliced.sorted.bam\tctrl\n",
      "no_backup.Generated.RNAseq.RNA_Scr_T1_hisat2_spliced.sorted.bam\tTNF\n",
      "no_backup.Generated.RNAseq.RNA_Scr_T2_hisat2_spliced.sorted.bam\tTNF\n",
      "no_backup.Generated.RNAseq.RNA_Scr_T3_hisat2_spliced.sorted.bam\tTNF\n"
     ]
    }
   ],
   "source": [
    "!cat $fp_conditions"
   ]
  },
  {
   "cell_type": "markdown",
   "metadata": {},
   "source": [
    "### Execution\n",
    "DESeq2 is written in the R programming language. We therefore need to execute this program in a different \"conda\" environment, i.e. if we wan't to call it from this notebook, we need to hack a little, to first activate the correct conda environment and only then execute the script. Try to prepend your `R` call with `ksljdhkjshdf`"
   ]
  },
  {
   "cell_type": "code",
   "execution_count": null,
   "metadata": {},
   "outputs": [],
   "source": [
    "dir_conda = '/opt/conda/'  # change to YOUR miniconda base directory\n",
    "dir_conda_env = \"dge\"\n",
    "fp_deseq2 = 'deseq2.R'\n",
    "\n",
    "cmd = 'source ' + dir_conda + '/etc/profile.d/conda.sh;'\n",
    "cmd += ' conda activate ' + dir_conda_env + ';'\n",
    "cmd += ' R --vanilla --file=' + os.path.abspath(fp_deseq2) + ' --args --count-table ' + fp_counts + ' --conditions ' + os.path.abspath(fp_conditions) + ' --featcounts-log ' + fp_counts + '.summary --output ./'\n",
    "\n",
    "!$cmd"
   ]
  },
  {
   "cell_type": "markdown",
   "metadata": {},
   "source": [
    "It might also happen, that the R script aborts with an error that the colData are not in the same order as the conditions. Then you need to copy the `conditions.tsv` file and change the order of the Vehicle and TNF samples.\\\n",
    "\\\n",
    "Take a look at the results - can you explain them? \\\n",
    "\\\n",
    "Next, we will use the tool `GenExVis` together, which takes DESeq2 normalized tables and creates various visualizations. Let's see if we get similar results to the ones in the paper of Schmidt et al.\n",
    "\n",
    "You can download GenExVis on your local computer [HERE](https://github.com/pblumenkamp/GenExVis/releases)"
   ]
  },
  {
   "cell_type": "markdown",
   "metadata": {},
   "source": [
    "### Results of DESeq2:\n",
    "\n",
    "Should the above R call fail, you can find all results pre-computed for DESeq2 in your directory `/Data/RNAseq/dge/`.\n",
    "\n",
    "Then you can download the normalized count table `/Data/RNAseq/dge/counts_deseq2_normalized.tsv` \\\n",
    "and the deseq2 result file `/Data/RNAseq/dge/deseq2_comparisons/deseq2_results_ctrl_Vs_TNF.csv` on your computer and import it to GenExVis."
   ]
  },
  {
   "cell_type": "code",
   "execution_count": null,
   "metadata": {},
   "outputs": [],
   "source": []
  }
 ],
 "metadata": {
  "kernelspec": {
   "display_name": "ggmap",
   "language": "python",
   "name": "ggmap"
  },
  "language_info": {
   "codemirror_mode": {
    "name": "ipython",
    "version": 3
   },
   "file_extension": ".py",
   "mimetype": "text/x-python",
   "name": "python",
   "nbconvert_exporter": "python",
   "pygments_lexer": "ipython3",
   "version": "3.10.9"
  }
 },
 "nbformat": 4,
 "nbformat_minor": 4
}
