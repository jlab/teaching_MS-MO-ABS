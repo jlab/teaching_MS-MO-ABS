{
 "cells": [
  {
   "cell_type": "markdown",
   "metadata": {},
   "source": [
    "# Normalize and Visualize Count Tables\n",
    "\n",
    "We want to manually normalize our count table with TPM and RPKM normalization.\\\n",
    "Since we must not compare samples of different conditions with those methods we will use only our TNF samples for the analysis.\\\n",
    "\\\n",
    "Afterward we will create a plot to examine our normalized count data and find out what we can use them for.\n"
   ]
  },
  {
   "cell_type": "code",
   "execution_count": 7,
   "metadata": {},
   "outputs": [],
   "source": [
    "# import neccessary python packages\n",
    "import pandas as pd\n",
    "import seaborn as sns\n",
    "import matplotlib.pyplot as plt"
   ]
  },
  {
   "cell_type": "markdown",
   "metadata": {},
   "source": [
    "### Task1: Import count table\n",
    "You find the TNF count table in `/vol/lehre/msmoabs2024/06_RNAseq/counts_TNF.tsv`. \\\n",
    "Import the file as a pandas DataFrame. Find out via Google how you can skip the first row of our file (the row starting with `#`). "
   ]
  },
  {
   "cell_type": "code",
   "execution_count": null,
   "metadata": {},
   "outputs": [],
   "source": []
  },
  {
   "cell_type": "markdown",
   "metadata": {},
   "source": [
    "## Task2: Rename the sample column names\n",
    "Our samples are currently named e.g. `mapping/RNAseq_shScr_TNF1_srt.bam`. This is a rather long string and we want to change that. \\\n",
    "Find out how to rename columns of a pandas DataFrame and think of a more convenient name for our samples."
   ]
  },
  {
   "cell_type": "code",
   "execution_count": null,
   "metadata": {},
   "outputs": [],
   "source": []
  },
  {
   "cell_type": "markdown",
   "metadata": {},
   "source": [
    "## Task3: Extract count value columns\n",
    "For both TPM and RKPM we only normalize the count data of our samples. \\\n",
    "Extract those columns and save them in a seperate pandas DataFrame. \\\n",
    "The result should be a DataFrame with three columns (TNF1-3)."
   ]
  },
  {
   "cell_type": "code",
   "execution_count": null,
   "metadata": {},
   "outputs": [],
   "source": []
  },
  {
   "cell_type": "markdown",
   "metadata": {},
   "source": [
    "## Task4: Extract `Length` column\n",
    "For both TPM and RKPM we need the information about the gene length of all the genes. \\\n",
    "Extract the column named `Length` and save it in a seperate pandas DataFrame."
   ]
  },
  {
   "cell_type": "code",
   "execution_count": null,
   "metadata": {},
   "outputs": [],
   "source": []
  },
  {
   "cell_type": "markdown",
   "metadata": {},
   "source": [
    "# Normalization\n",
    "We can begin with the normalization of our samples.\\\n",
    "For this purpose we will use the DataFrame of our samples (Task3) as well as the DataFrame containing the informaiton about the gene lengths (Task4)."
   ]
  },
  {
   "cell_type": "markdown",
   "metadata": {},
   "source": [
    "## Task5: TPM normalization\n",
    "\n",
    "To execute the TPM normalization, use the following formula: \\\n",
    "<span style=\"color:red\">**10^6 * (count value / gene length) / sum(count value / gene length)**</span> \\\n",
    "\\\n",
    "Save the intermediate results in their own DataFrames if neccessary. \\\n",
    "At the end, combine the TPM normalized count values with the first six columns of our original count data (Columns `Geneid` up to `Length`).\\\n",
    "The result should be a DataFrame looking like the `counts_TNF.tsv`, only now with normalized counts."
   ]
  },
  {
   "cell_type": "code",
   "execution_count": null,
   "metadata": {},
   "outputs": [],
   "source": []
  },
  {
   "cell_type": "markdown",
   "metadata": {},
   "source": [
    "## Task6: RPKM normalization\n",
    "\n",
    "To execute the RPKM normalization, use the following formula: \\\n",
    "<span style=\"color:red\">**10^9 * count value / (sum(count value) * gene length) = 10^9 * count value / sum(count value) / gene length**</span> \\\n",
    "\\\n",
    "Save the intermediate results in their own DataFrames if neccessary. \\\n",
    "At the end, combine the RPKM normalized count values with the first six columns of our original count data (Columns `Geneid` up to `Length`).\\\n",
    "The result should be a DataFrame looking like the `counts_TNF.tsv`, only now with normalized counts.\n",
    "\n"
   ]
  },
  {
   "cell_type": "code",
   "execution_count": null,
   "metadata": {},
   "outputs": [],
   "source": []
  },
  {
   "cell_type": "markdown",
   "metadata": {},
   "source": [
    "## Task7: Export normalized count tables as a tsv file\n",
    "Normally, we want to keep using our normalized count tables for further analyses. \\\n",
    "Therefore, save both your normalized DataFrames as a tsv file."
   ]
  },
  {
   "cell_type": "code",
   "execution_count": null,
   "metadata": {},
   "outputs": [],
   "source": []
  },
  {
   "cell_type": "markdown",
   "metadata": {},
   "source": [
    "## Task8: Combine both dataframes for visualization purposes\n",
    "To properly visualize (and compare) both normalization methods, we need to combine both DataFrames. \\\n",
    "<span style=\"color:red\">Note, that you have to rename the columns again (e.g. `TNF1` needs to be renamed to `TPM_TNF1` and `RPKM_TNF1`).</span> \\\n",
    "As a result you should have a DataFrame with six columns (`TPM_TNF1-3` and `RPKM_TNF1-3`)."
   ]
  },
  {
   "cell_type": "code",
   "execution_count": null,
   "metadata": {},
   "outputs": [],
   "source": []
  },
  {
   "cell_type": "markdown",
   "metadata": {},
   "source": [
    "## Task9: Inspect TPM vs. RPKM\n",
    "Calculate the sum of all columns with the following function: \\\n",
    "`dataframe.apply(sum)` \\\n",
    "Instead of `dataframe` insert the name of your combined DataFrame from Task8. \\\n",
    "Explain what you see! "
   ]
  },
  {
   "cell_type": "code",
   "execution_count": null,
   "metadata": {},
   "outputs": [],
   "source": []
  },
  {
   "cell_type": "markdown",
   "metadata": {},
   "source": [
    "# Visualization\n",
    "We will now visualize our normalized data to see the difference between TPM and RPKM - and why we should prefer one over the other.\\\n",
    "Therefore, we will create six histograms with seaborn of our normalized samples.\n",
    "\n",
    "<span style=\"color:red\">**Note that you need to insert the name of your DataFrame in every seaborn call after the `data` parameter before execution!**</span> \\\n",
    "\\\n",
    "Look at the last three bars of each plot. Use your observations to explain why RPKM should not be used to compare genes of different samples. "
   ]
  },
  {
   "cell_type": "code",
   "execution_count": null,
   "metadata": {},
   "outputs": [],
   "source": [
    "fig, axes = plt.subplots(6,1, sharex=True, sharey=True, figsize=(20,15))\n",
    "sns.histplot(ax=axes[0], data=tnf_norm['TPM_TNF1'], binwidth=1000)\n",
    "sns.histplot(ax=axes[1], data=tnf_norm['TPM_TNF2'], binwidth=1000)\n",
    "sns.histplot(ax=axes[2], data=tnf_norm['TPM_TNF3'], binwidth=1000)\n",
    "sns.histplot(ax=axes[3], data=tnf_norm['RPKM_TNF1'], binwidth=1000)\n",
    "sns.histplot(ax=axes[4], data=tnf_norm['RPKM_TNF2'], binwidth=1000)\n",
    "sns.histplot(ax=axes[5], data=tnf_norm['RPKM_TNF3'], binwidth=1000)\n",
    "plt.yscale('log')"
   ]
  },
  {
   "cell_type": "markdown",
   "metadata": {},
   "source": [
    "## DESeq2 and GenExVis \n",
    "\n",
    "Since we must not use RPKM or TPM to find differentially expressed genes between two (or more) conditions, we will use DESeq2 for the downstream analysis of our samples.\n",
    "\n",
    "For the DESeq2 analysis install a new conda environment like this:\\\n",
    "`conda deactivate` \\\n",
    "`mamba env create -f /vol/lehre/msmoabs2024/06_RNAseq/downstream_analysis/dge_analysis.yaml`\\\n",
    "\\\n",
    "Then activate it and use the provided R script:\\\n",
    "`R --vanilla --file=/vol/lehre/msmoabs2024/06_RNAseq/downstream_analysis/deseq2.R --args --count-table counts.tsv --conditions /vol/lehre/msmoabs2024/06_RNAseq/downstream_analysis/conditions_tnf.tsv --featcounts-log counts.tsv.summary --output ./`\\\n",
    "\\\n",
    "<span style=\"color:red\">**Note, that you may need to specify the directory where your count table is located. Also change the directory of the `--output` parameter if neccessary.**</span>\\\n",
    "It might also happen, that the R script aborts with an error that the colData are not in the same order as the conditions. Then you need to copy the `conditions_tnf.tsv` file and change the order of the Vehicle and TNF samples.\\\n",
    "\\\n",
    "Take a look at the results - can you explain them? \\\n",
    "\\\n",
    "Next, we will use the tool `GenExVis` together, which takes DESeq2 normalized tables and creates various visualizations. Let's see if we get similar results to the ones in the paper of Schmidt et al."
   ]
  }
 ],
 "metadata": {
  "kernelspec": {
   "display_name": "pandas",
   "language": "python",
   "name": "pandas"
  },
  "language_info": {
   "codemirror_mode": {
    "name": "ipython",
    "version": 3
   },
   "file_extension": ".py",
   "mimetype": "text/x-python",
   "name": "python",
   "nbconvert_exporter": "python",
   "pygments_lexer": "ipython3",
   "version": "3.12.5"
  }
 },
 "nbformat": 4,
 "nbformat_minor": 4
}
